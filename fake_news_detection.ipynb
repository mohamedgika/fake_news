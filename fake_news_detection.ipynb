{
 "cells": [
  {
   "cell_type": "markdown",
   "id": "8cc57862",
   "metadata": {
    "id": "8cc57862",
    "papermill": {
     "duration": 0.021051,
     "end_time": "2021-08-26T09:52:59.696483",
     "exception": false,
     "start_time": "2021-08-26T09:52:59.675432",
     "status": "completed"
    },
    "tags": []
   },
   "source": [
    "## 1. Import Libraries"
   ]
  },
  {
   "cell_type": "code",
   "execution_count": 2,
   "id": "4cd88d20",
   "metadata": {
    "ExecuteTime": {
     "end_time": "2023-05-08T12:29:10.259953Z",
     "start_time": "2023-05-08T12:29:06.515494Z"
    },
    "execution": {
     "iopub.execute_input": "2021-08-26T09:52:59.749312Z",
     "iopub.status.busy": "2021-08-26T09:52:59.748632Z",
     "iopub.status.idle": "2021-08-26T09:53:01.275079Z",
     "shell.execute_reply": "2021-08-26T09:53:01.274430Z",
     "shell.execute_reply.started": "2021-08-26T09:39:29.841273Z"
    },
    "id": "4cd88d20",
    "papermill": {
     "duration": 1.55746,
     "end_time": "2021-08-26T09:53:01.275242",
     "exception": false,
     "start_time": "2021-08-26T09:52:59.717782",
     "status": "completed"
    },
    "tags": []
   },
   "outputs": [],
   "source": [
    "import pandas as pd\n",
    "import numpy as np\n",
    "import matplotlib.pyplot as plt\n",
    "\n",
    "# NLP libraries to clean the text data\n",
    "from nltk.corpus import stopwords\n",
    "from nltk.stem.porter import PorterStemmer\n",
    "import re\n",
    "\n",
    "# Vectorization technique TF-IDF\n",
    "from sklearn.feature_extraction.text import TfidfVectorizer\n",
    "\n",
    "# For Splitting the dataset\n",
    "from sklearn.model_selection import train_test_split\n",
    "from sklearn.model_selection import cross_val_score\n",
    "# Model libraries\n",
    "from sklearn.linear_model import LogisticRegression\n",
    "from sklearn.svm import SVC\n",
    "from sklearn.ensemble import RandomForestClassifier\n",
    "from sklearn.tree import DecisionTreeClassifier\n",
    "from sklearn.neighbors import KNeighborsClassifier\n",
    "from sklearn import metrics\n",
    "from sklearn.metrics import confusion_matrix\n",
    "from sklearn.metrics import ConfusionMatrixDisplay\n",
    "from sklearn.metrics import classification_report , roc_curve\n",
    "\n",
    "#Accuracy measuring library\n",
    "from sklearn.metrics import accuracy_score\n"
   ]
  },
  {
   "cell_type": "markdown",
   "id": "8545884e",
   "metadata": {
    "id": "8545884e",
    "papermill": {
     "duration": 0.021186,
     "end_time": "2021-08-26T09:53:01.318153",
     "exception": false,
     "start_time": "2021-08-26T09:53:01.296967",
     "status": "completed"
    },
    "tags": []
   },
   "source": [
    "## 2. Loading the data"
   ]
  },
  {
   "cell_type": "code",
   "execution_count": 4,
   "id": "6a9cc4ac",
   "metadata": {
    "ExecuteTime": {
     "end_time": "2023-05-08T12:29:12.501101Z",
     "start_time": "2023-05-08T12:29:10.270394Z"
    },
    "execution": {
     "iopub.execute_input": "2021-08-26T09:53:01.365473Z",
     "iopub.status.busy": "2021-08-26T09:53:01.364928Z",
     "iopub.status.idle": "2021-08-26T09:53:01.759116Z",
     "shell.execute_reply": "2021-08-26T09:53:01.758475Z",
     "shell.execute_reply.started": "2021-08-26T09:41:04.219233Z"
    },
    "id": "6a9cc4ac",
    "papermill": {
     "duration": 0.419688,
     "end_time": "2021-08-26T09:53:01.759246",
     "exception": false,
     "start_time": "2021-08-26T09:53:01.339558",
     "status": "completed"
    },
    "tags": []
   },
   "outputs": [],
   "source": [
    "file_path = 'C:/Users/CITY_LAP/Desktop/fake_news/train.csv'\n",
    "data = pd.read_csv(file_path)"
   ]
  },
  {
   "cell_type": "code",
   "execution_count": 3,
   "id": "ecfed111",
   "metadata": {
    "ExecuteTime": {
     "end_time": "2023-05-08T12:29:12.850501Z",
     "start_time": "2023-05-08T12:29:12.520166Z"
    },
    "colab": {
     "base_uri": "https://localhost:8080/"
    },
    "execution": {
     "iopub.execute_input": "2021-08-26T09:53:01.810832Z",
     "iopub.status.busy": "2021-08-26T09:53:01.810177Z",
     "iopub.status.idle": "2021-08-26T09:53:01.813962Z",
     "shell.execute_reply": "2021-08-26T09:53:01.813511Z",
     "shell.execute_reply.started": "2021-08-26T09:41:13.627059Z"
    },
    "id": "ecfed111",
    "outputId": "39d1938d-e7b9-4413-942f-d01ae22fe69d",
    "papermill": {
     "duration": 0.032728,
     "end_time": "2021-08-26T09:53:01.814097",
     "exception": false,
     "start_time": "2021-08-26T09:53:01.781369",
     "status": "completed"
    },
    "tags": []
   },
   "outputs": [
    {
     "data": {
      "text/plain": [
       "(20800, 5)"
      ]
     },
     "execution_count": 3,
     "metadata": {},
     "output_type": "execute_result"
    }
   ],
   "source": [
    "data.shape #Returns the number of rows and columns present in the dataset"
   ]
  },
  {
   "cell_type": "code",
   "execution_count": 5,
   "id": "92d73eff",
   "metadata": {
    "ExecuteTime": {
     "end_time": "2023-05-08T12:29:12.898562Z",
     "start_time": "2023-05-08T12:29:12.870632Z"
    },
    "colab": {
     "base_uri": "https://localhost:8080/",
     "height": 333
    },
    "execution": {
     "iopub.execute_input": "2021-08-26T09:53:01.868503Z",
     "iopub.status.busy": "2021-08-26T09:53:01.867610Z",
     "iopub.status.idle": "2021-08-26T09:53:01.884085Z",
     "shell.execute_reply": "2021-08-26T09:53:01.883533Z",
     "shell.execute_reply.started": "2021-08-26T09:41:19.248007Z"
    },
    "id": "92d73eff",
    "outputId": "1cc7edc4-2222-4ee4-d2aa-71dcb15ca1f2",
    "papermill": {
     "duration": 0.047956,
     "end_time": "2021-08-26T09:53:01.884234",
     "exception": false,
     "start_time": "2021-08-26T09:53:01.836278",
     "status": "completed"
    },
    "tags": []
   },
   "outputs": [
    {
     "data": {
      "text/html": [
       "<div>\n",
       "<style scoped>\n",
       "    .dataframe tbody tr th:only-of-type {\n",
       "        vertical-align: middle;\n",
       "    }\n",
       "\n",
       "    .dataframe tbody tr th {\n",
       "        vertical-align: top;\n",
       "    }\n",
       "\n",
       "    .dataframe thead th {\n",
       "        text-align: right;\n",
       "    }\n",
       "</style>\n",
       "<table border=\"1\" class=\"dataframe\">\n",
       "  <thead>\n",
       "    <tr style=\"text-align: right;\">\n",
       "      <th></th>\n",
       "      <th>id</th>\n",
       "      <th>title</th>\n",
       "      <th>author</th>\n",
       "      <th>text</th>\n",
       "      <th>label</th>\n",
       "    </tr>\n",
       "  </thead>\n",
       "  <tbody>\n",
       "    <tr>\n",
       "      <th>0</th>\n",
       "      <td>0</td>\n",
       "      <td>House Dem Aide: We Didn’t Even See Comey’s Let...</td>\n",
       "      <td>Darrell Lucus</td>\n",
       "      <td>House Dem Aide: We Didn’t Even See Comey’s Let...</td>\n",
       "      <td>1</td>\n",
       "    </tr>\n",
       "    <tr>\n",
       "      <th>1</th>\n",
       "      <td>1</td>\n",
       "      <td>FLYNN: Hillary Clinton, Big Woman on Campus - ...</td>\n",
       "      <td>Daniel J. Flynn</td>\n",
       "      <td>Ever get the feeling your life circles the rou...</td>\n",
       "      <td>0</td>\n",
       "    </tr>\n",
       "    <tr>\n",
       "      <th>2</th>\n",
       "      <td>2</td>\n",
       "      <td>Why the Truth Might Get You Fired</td>\n",
       "      <td>Consortiumnews.com</td>\n",
       "      <td>Why the Truth Might Get You Fired October 29, ...</td>\n",
       "      <td>1</td>\n",
       "    </tr>\n",
       "    <tr>\n",
       "      <th>3</th>\n",
       "      <td>3</td>\n",
       "      <td>15 Civilians Killed In Single US Airstrike Hav...</td>\n",
       "      <td>Jessica Purkiss</td>\n",
       "      <td>Videos 15 Civilians Killed In Single US Airstr...</td>\n",
       "      <td>1</td>\n",
       "    </tr>\n",
       "    <tr>\n",
       "      <th>4</th>\n",
       "      <td>4</td>\n",
       "      <td>Iranian woman jailed for fictional unpublished...</td>\n",
       "      <td>Howard Portnoy</td>\n",
       "      <td>Print \\nAn Iranian woman has been sentenced to...</td>\n",
       "      <td>1</td>\n",
       "    </tr>\n",
       "  </tbody>\n",
       "</table>\n",
       "</div>"
      ],
      "text/plain": [
       "   id                                              title              author  \\\n",
       "0   0  House Dem Aide: We Didn’t Even See Comey’s Let...       Darrell Lucus   \n",
       "1   1  FLYNN: Hillary Clinton, Big Woman on Campus - ...     Daniel J. Flynn   \n",
       "2   2                  Why the Truth Might Get You Fired  Consortiumnews.com   \n",
       "3   3  15 Civilians Killed In Single US Airstrike Hav...     Jessica Purkiss   \n",
       "4   4  Iranian woman jailed for fictional unpublished...      Howard Portnoy   \n",
       "\n",
       "                                                text  label  \n",
       "0  House Dem Aide: We Didn’t Even See Comey’s Let...      1  \n",
       "1  Ever get the feeling your life circles the rou...      0  \n",
       "2  Why the Truth Might Get You Fired October 29, ...      1  \n",
       "3  Videos 15 Civilians Killed In Single US Airstr...      1  \n",
       "4  Print \\nAn Iranian woman has been sentenced to...      1  "
      ]
     },
     "execution_count": 5,
     "metadata": {},
     "output_type": "execute_result"
    }
   ],
   "source": [
    "data.head()  # Returns the first 5 rows of the dataset"
   ]
  },
  {
   "cell_type": "code",
   "execution_count": 6,
   "id": "6bc1f853",
   "metadata": {
    "ExecuteTime": {
     "end_time": "2023-05-08T12:29:12.928351Z",
     "start_time": "2023-05-08T12:29:12.907414Z"
    },
    "colab": {
     "base_uri": "https://localhost:8080/"
    },
    "execution": {
     "iopub.execute_input": "2021-08-26T09:53:01.946499Z",
     "iopub.status.busy": "2021-08-26T09:53:01.945589Z",
     "iopub.status.idle": "2021-08-26T09:53:01.949428Z",
     "shell.execute_reply": "2021-08-26T09:53:01.949922Z",
     "shell.execute_reply.started": "2021-08-26T09:41:27.790058Z"
    },
    "id": "6bc1f853",
    "outputId": "0817b95a-2eb4-4fe1-b5e1-c668de82a133",
    "papermill": {
     "duration": 0.035965,
     "end_time": "2021-08-26T09:53:01.950105",
     "exception": false,
     "start_time": "2021-08-26T09:53:01.914140",
     "status": "completed"
    },
    "tags": []
   },
   "outputs": [
    {
     "data": {
      "text/plain": [
       "Index(['id', 'title', 'author', 'text', 'label'], dtype='object')"
      ]
     },
     "execution_count": 6,
     "metadata": {},
     "output_type": "execute_result"
    }
   ],
   "source": [
    "data.columns # Returns the column headings"
   ]
  },
  {
   "cell_type": "code",
   "execution_count": 7,
   "id": "7196d5ea",
   "metadata": {
    "ExecuteTime": {
     "end_time": "2023-05-08T12:29:13.001726Z",
     "start_time": "2023-05-08T12:29:12.944035Z"
    },
    "colab": {
     "base_uri": "https://localhost:8080/"
    },
    "execution": {
     "iopub.execute_input": "2021-08-26T09:53:02.003228Z",
     "iopub.status.busy": "2021-08-26T09:53:02.002348Z",
     "iopub.status.idle": "2021-08-26T09:53:02.011969Z",
     "shell.execute_reply": "2021-08-26T09:53:02.011404Z",
     "shell.execute_reply.started": "2021-08-26T09:41:33.542129Z"
    },
    "id": "7196d5ea",
    "outputId": "28f54c1f-528c-4987-e270-8af1dac7c5ee",
    "papermill": {
     "duration": 0.038025,
     "end_time": "2021-08-26T09:53:02.012097",
     "exception": false,
     "start_time": "2021-08-26T09:53:01.974072",
     "status": "completed"
    },
    "tags": []
   },
   "outputs": [
    {
     "data": {
      "text/plain": [
       "id           0\n",
       "title      558\n",
       "author    1957\n",
       "text        39\n",
       "label        0\n",
       "dtype: int64"
      ]
     },
     "execution_count": 7,
     "metadata": {},
     "output_type": "execute_result"
    }
   ],
   "source": [
    "data.isnull().sum() #To check the null values in the dataset, if any"
   ]
  },
  {
   "cell_type": "markdown",
   "id": "4c5905ad",
   "metadata": {
    "id": "4c5905ad",
    "papermill": {
     "duration": 0.02261,
     "end_time": "2021-08-26T09:53:02.057457",
     "exception": false,
     "start_time": "2021-08-26T09:53:02.034847",
     "status": "completed"
    },
    "tags": []
   },
   "source": [
    "## 3.Data-Preprocessing\n",
    "\n",
    "For further analysis, cleaning of data is necessary. \n",
    "In this Notebook, I will be doing 3 stages of data cleaning:\n",
    "1. Removing the Null values\n",
    "2. Adding a new field\n",
    "3. Drop features that are not needed\n",
    "4. Text Processing"
   ]
  },
  {
   "cell_type": "code",
   "execution_count": 8,
   "id": "6839b6a4",
   "metadata": {
    "ExecuteTime": {
     "end_time": "2023-05-08T12:29:13.019356Z",
     "start_time": "2023-05-08T12:29:13.011414Z"
    },
    "execution": {
     "iopub.execute_input": "2021-08-26T09:53:02.108249Z",
     "iopub.status.busy": "2021-08-26T09:53:02.107418Z",
     "iopub.status.idle": "2021-08-26T09:53:02.110227Z",
     "shell.execute_reply": "2021-08-26T09:53:02.109763Z",
     "shell.execute_reply.started": "2021-08-26T09:42:11.132739Z"
    },
    "id": "6839b6a4",
    "papermill": {
     "duration": 0.029723,
     "end_time": "2021-08-26T09:53:02.110348",
     "exception": false,
     "start_time": "2021-08-26T09:53:02.080625",
     "status": "completed"
    },
    "tags": []
   },
   "outputs": [],
   "source": [
    "df = data.copy() #Creating a copy of my data, I will be working on this Dataframe"
   ]
  },
  {
   "cell_type": "markdown",
   "id": "1e3e14ca",
   "metadata": {
    "id": "1e3e14ca",
    "papermill": {
     "duration": 0.022888,
     "end_time": "2021-08-26T09:53:02.201002",
     "exception": false,
     "start_time": "2021-08-26T09:53:02.178114",
     "status": "completed"
    },
    "tags": []
   },
   "source": [
    "## 3.1. Removing the Null Values\n",
    "\n",
    "As Body field has some empty fields, it can be handled in two ways:\n",
    "1. Drop the 21 rows\n",
    "2. Replace the null value with a dummy string\n",
    "\n",
    "Here, I will be going with the 2nd option, because although dropping 21 rows would not affect the accuracy, as it is just a minute portion of our large dataset, it is never recommended.\n",
    "\n",
    "I will be replacing the Null(Nan) values in 'Body' field with an empty string ('')"
   ]
  },
  {
   "cell_type": "code",
   "execution_count": 9,
   "id": "b32bdb13",
   "metadata": {
    "ExecuteTime": {
     "end_time": "2023-05-08T12:29:13.146056Z",
     "start_time": "2023-05-08T12:29:13.029088Z"
    },
    "execution": {
     "iopub.execute_input": "2021-08-26T09:53:02.250467Z",
     "iopub.status.busy": "2021-08-26T09:53:02.249894Z",
     "iopub.status.idle": "2021-08-26T09:53:02.256546Z",
     "shell.execute_reply": "2021-08-26T09:53:02.257050Z",
     "shell.execute_reply.started": "2021-08-26T09:42:34.898061Z"
    },
    "id": "b32bdb13",
    "papermill": {
     "duration": 0.032365,
     "end_time": "2021-08-26T09:53:02.257204",
     "exception": false,
     "start_time": "2021-08-26T09:53:02.224839",
     "status": "completed"
    },
    "tags": []
   },
   "outputs": [],
   "source": [
    "df = df.fillna('')   # As Body is empty, just filled with an empty space"
   ]
  },
  {
   "cell_type": "code",
   "execution_count": 10,
   "id": "cbd32433",
   "metadata": {
    "ExecuteTime": {
     "end_time": "2023-05-08T12:29:13.307297Z",
     "start_time": "2023-05-08T12:29:13.182898Z"
    },
    "colab": {
     "base_uri": "https://localhost:8080/"
    },
    "execution": {
     "iopub.execute_input": "2021-08-26T09:53:02.354872Z",
     "iopub.status.busy": "2021-08-26T09:53:02.354033Z",
     "iopub.status.idle": "2021-08-26T09:53:02.362819Z",
     "shell.execute_reply": "2021-08-26T09:53:02.363268Z",
     "shell.execute_reply.started": "2021-08-26T09:42:42.932733Z"
    },
    "id": "cbd32433",
    "outputId": "c4e71746-f5d9-40d2-82f1-4b02fcaf14c6",
    "papermill": {
     "duration": 0.035284,
     "end_time": "2021-08-26T09:53:02.363417",
     "exception": false,
     "start_time": "2021-08-26T09:53:02.328133",
     "status": "completed"
    },
    "tags": []
   },
   "outputs": [
    {
     "data": {
      "text/plain": [
       "id        0\n",
       "title     0\n",
       "author    0\n",
       "text      0\n",
       "label     0\n",
       "dtype: int64"
      ]
     },
     "execution_count": 10,
     "metadata": {},
     "output_type": "execute_result"
    }
   ],
   "source": [
    "df.isnull().sum()  # No null values found"
   ]
  },
  {
   "cell_type": "markdown",
   "id": "2ff95043",
   "metadata": {
    "id": "2ff95043",
    "papermill": {
     "duration": 0.023199,
     "end_time": "2021-08-26T09:53:02.410142",
     "exception": false,
     "start_time": "2021-08-26T09:53:02.386943",
     "status": "completed"
    },
    "tags": []
   },
   "source": [
    "## 3.2. Adding a new column\n",
    "For ease of implementation, I combined Headline and Body Column and created a new column 'News' "
   ]
  },
  {
   "cell_type": "code",
   "execution_count": 11,
   "id": "5d5ca9e0",
   "metadata": {
    "ExecuteTime": {
     "end_time": "2023-05-08T12:29:13.365201Z",
     "start_time": "2023-05-08T12:29:13.347141Z"
    },
    "execution": {
     "iopub.execute_input": "2021-08-26T09:53:02.461411Z",
     "iopub.status.busy": "2021-08-26T09:53:02.460688Z",
     "iopub.status.idle": "2021-08-26T09:53:02.494498Z",
     "shell.execute_reply": "2021-08-26T09:53:02.494981Z",
     "shell.execute_reply.started": "2021-08-26T09:43:08.136708Z"
    },
    "id": "5d5ca9e0",
    "papermill": {
     "duration": 0.061828,
     "end_time": "2021-08-26T09:53:02.495142",
     "exception": false,
     "start_time": "2021-08-26T09:53:02.433314",
     "status": "completed"
    },
    "tags": []
   },
   "outputs": [],
   "source": [
    "df['News'] = df['author']+df['title']"
   ]
  },
  {
   "cell_type": "code",
   "execution_count": 12,
   "id": "be4e9e66",
   "metadata": {
    "ExecuteTime": {
     "end_time": "2023-05-08T12:29:13.534012Z",
     "start_time": "2023-05-08T12:29:13.374400Z"
    },
    "colab": {
     "base_uri": "https://localhost:8080/",
     "height": 469
    },
    "execution": {
     "iopub.execute_input": "2021-08-26T09:53:02.552468Z",
     "iopub.status.busy": "2021-08-26T09:53:02.551678Z",
     "iopub.status.idle": "2021-08-26T09:53:02.555725Z",
     "shell.execute_reply": "2021-08-26T09:53:02.555180Z",
     "shell.execute_reply.started": "2021-08-26T09:43:12.605997Z"
    },
    "id": "be4e9e66",
    "outputId": "ae4d6601-7e49-43d2-e5d5-f277437d947c",
    "papermill": {
     "duration": 0.037666,
     "end_time": "2021-08-26T09:53:02.555885",
     "exception": false,
     "start_time": "2021-08-26T09:53:02.518219",
     "status": "completed"
    },
    "tags": []
   },
   "outputs": [
    {
     "data": {
      "text/html": [
       "<div>\n",
       "<style scoped>\n",
       "    .dataframe tbody tr th:only-of-type {\n",
       "        vertical-align: middle;\n",
       "    }\n",
       "\n",
       "    .dataframe tbody tr th {\n",
       "        vertical-align: top;\n",
       "    }\n",
       "\n",
       "    .dataframe thead th {\n",
       "        text-align: right;\n",
       "    }\n",
       "</style>\n",
       "<table border=\"1\" class=\"dataframe\">\n",
       "  <thead>\n",
       "    <tr style=\"text-align: right;\">\n",
       "      <th></th>\n",
       "      <th>id</th>\n",
       "      <th>title</th>\n",
       "      <th>author</th>\n",
       "      <th>text</th>\n",
       "      <th>label</th>\n",
       "      <th>News</th>\n",
       "    </tr>\n",
       "  </thead>\n",
       "  <tbody>\n",
       "    <tr>\n",
       "      <th>0</th>\n",
       "      <td>0</td>\n",
       "      <td>House Dem Aide: We Didn’t Even See Comey’s Let...</td>\n",
       "      <td>Darrell Lucus</td>\n",
       "      <td>House Dem Aide: We Didn’t Even See Comey’s Let...</td>\n",
       "      <td>1</td>\n",
       "      <td>Darrell LucusHouse Dem Aide: We Didn’t Even Se...</td>\n",
       "    </tr>\n",
       "    <tr>\n",
       "      <th>1</th>\n",
       "      <td>1</td>\n",
       "      <td>FLYNN: Hillary Clinton, Big Woman on Campus - ...</td>\n",
       "      <td>Daniel J. Flynn</td>\n",
       "      <td>Ever get the feeling your life circles the rou...</td>\n",
       "      <td>0</td>\n",
       "      <td>Daniel J. FlynnFLYNN: Hillary Clinton, Big Wom...</td>\n",
       "    </tr>\n",
       "    <tr>\n",
       "      <th>2</th>\n",
       "      <td>2</td>\n",
       "      <td>Why the Truth Might Get You Fired</td>\n",
       "      <td>Consortiumnews.com</td>\n",
       "      <td>Why the Truth Might Get You Fired October 29, ...</td>\n",
       "      <td>1</td>\n",
       "      <td>Consortiumnews.comWhy the Truth Might Get You ...</td>\n",
       "    </tr>\n",
       "    <tr>\n",
       "      <th>3</th>\n",
       "      <td>3</td>\n",
       "      <td>15 Civilians Killed In Single US Airstrike Hav...</td>\n",
       "      <td>Jessica Purkiss</td>\n",
       "      <td>Videos 15 Civilians Killed In Single US Airstr...</td>\n",
       "      <td>1</td>\n",
       "      <td>Jessica Purkiss15 Civilians Killed In Single U...</td>\n",
       "    </tr>\n",
       "    <tr>\n",
       "      <th>4</th>\n",
       "      <td>4</td>\n",
       "      <td>Iranian woman jailed for fictional unpublished...</td>\n",
       "      <td>Howard Portnoy</td>\n",
       "      <td>Print \\nAn Iranian woman has been sentenced to...</td>\n",
       "      <td>1</td>\n",
       "      <td>Howard PortnoyIranian woman jailed for fiction...</td>\n",
       "    </tr>\n",
       "  </tbody>\n",
       "</table>\n",
       "</div>"
      ],
      "text/plain": [
       "   id                                              title              author  \\\n",
       "0   0  House Dem Aide: We Didn’t Even See Comey’s Let...       Darrell Lucus   \n",
       "1   1  FLYNN: Hillary Clinton, Big Woman on Campus - ...     Daniel J. Flynn   \n",
       "2   2                  Why the Truth Might Get You Fired  Consortiumnews.com   \n",
       "3   3  15 Civilians Killed In Single US Airstrike Hav...     Jessica Purkiss   \n",
       "4   4  Iranian woman jailed for fictional unpublished...      Howard Portnoy   \n",
       "\n",
       "                                                text  label  \\\n",
       "0  House Dem Aide: We Didn’t Even See Comey’s Let...      1   \n",
       "1  Ever get the feeling your life circles the rou...      0   \n",
       "2  Why the Truth Might Get You Fired October 29, ...      1   \n",
       "3  Videos 15 Civilians Killed In Single US Airstr...      1   \n",
       "4  Print \\nAn Iranian woman has been sentenced to...      1   \n",
       "\n",
       "                                                News  \n",
       "0  Darrell LucusHouse Dem Aide: We Didn’t Even Se...  \n",
       "1  Daniel J. FlynnFLYNN: Hillary Clinton, Big Wom...  \n",
       "2  Consortiumnews.comWhy the Truth Might Get You ...  \n",
       "3  Jessica Purkiss15 Civilians Killed In Single U...  \n",
       "4  Howard PortnoyIranian woman jailed for fiction...  "
      ]
     },
     "execution_count": 12,
     "metadata": {},
     "output_type": "execute_result"
    }
   ],
   "source": [
    "df.head()"
   ]
  },
  {
   "cell_type": "code",
   "execution_count": 13,
   "id": "4daa82e1",
   "metadata": {
    "ExecuteTime": {
     "end_time": "2023-05-08T12:29:13.583957Z",
     "start_time": "2023-05-08T12:29:13.551413Z"
    },
    "colab": {
     "base_uri": "https://localhost:8080/"
    },
    "execution": {
     "iopub.execute_input": "2021-08-26T09:53:02.609178Z",
     "iopub.status.busy": "2021-08-26T09:53:02.608505Z",
     "iopub.status.idle": "2021-08-26T09:53:02.611368Z",
     "shell.execute_reply": "2021-08-26T09:53:02.611866Z",
     "shell.execute_reply.started": "2021-08-26T09:43:20.065978Z"
    },
    "id": "4daa82e1",
    "outputId": "5d7e9eb2-4d0d-4e2a-82a9-b1d8f790fcd2",
    "papermill": {
     "duration": 0.031973,
     "end_time": "2021-08-26T09:53:02.612033",
     "exception": false,
     "start_time": "2021-08-26T09:53:02.580060",
     "status": "completed"
    },
    "tags": []
   },
   "outputs": [
    {
     "data": {
      "text/plain": [
       "Index(['id', 'title', 'author', 'text', 'label', 'News'], dtype='object')"
      ]
     },
     "execution_count": 13,
     "metadata": {},
     "output_type": "execute_result"
    }
   ],
   "source": [
    "df.columns"
   ]
  },
  {
   "cell_type": "markdown",
   "id": "70c89871",
   "metadata": {
    "id": "70c89871",
    "papermill": {
     "duration": 0.023541,
     "end_time": "2021-08-26T09:53:02.659451",
     "exception": false,
     "start_time": "2021-08-26T09:53:02.635910",
     "status": "completed"
    },
    "tags": []
   },
   "source": [
    "## 3.3. Drop features that are not needed"
   ]
  },
  {
   "cell_type": "code",
   "execution_count": 14,
   "id": "e95a906c",
   "metadata": {
    "ExecuteTime": {
     "end_time": "2023-05-08T12:29:13.619276Z",
     "start_time": "2023-05-08T12:29:13.591950Z"
    },
    "execution": {
     "iopub.execute_input": "2021-08-26T09:53:02.710428Z",
     "iopub.status.busy": "2021-08-26T09:53:02.709766Z",
     "iopub.status.idle": "2021-08-26T09:53:02.717454Z",
     "shell.execute_reply": "2021-08-26T09:53:02.717923Z",
     "shell.execute_reply.started": "2021-08-26T09:43:36.982510Z"
    },
    "id": "e95a906c",
    "papermill": {
     "duration": 0.034663,
     "end_time": "2021-08-26T09:53:02.718086",
     "exception": false,
     "start_time": "2021-08-26T09:53:02.683423",
     "status": "completed"
    },
    "tags": []
   },
   "outputs": [],
   "source": [
    "features_dropped = ['id', 'title', 'author', 'text']\n",
    "df = df.drop(features_dropped, axis =1)"
   ]
  },
  {
   "cell_type": "code",
   "execution_count": 15,
   "id": "f7fcb23b",
   "metadata": {
    "ExecuteTime": {
     "end_time": "2023-05-08T12:29:13.644417Z",
     "start_time": "2023-05-08T12:29:13.633120Z"
    },
    "colab": {
     "base_uri": "https://localhost:8080/"
    },
    "execution": {
     "iopub.execute_input": "2021-08-26T09:53:02.771514Z",
     "iopub.status.busy": "2021-08-26T09:53:02.770979Z",
     "iopub.status.idle": "2021-08-26T09:53:02.773422Z",
     "shell.execute_reply": "2021-08-26T09:53:02.773889Z",
     "shell.execute_reply.started": "2021-08-26T09:43:42.176672Z"
    },
    "id": "f7fcb23b",
    "outputId": "3e56b9af-dc22-4c89-fb8b-9793b2fd841b",
    "papermill": {
     "duration": 0.031651,
     "end_time": "2021-08-26T09:53:02.774066",
     "exception": false,
     "start_time": "2021-08-26T09:53:02.742415",
     "status": "completed"
    },
    "tags": []
   },
   "outputs": [
    {
     "data": {
      "text/plain": [
       "Index(['label', 'News'], dtype='object')"
      ]
     },
     "execution_count": 15,
     "metadata": {},
     "output_type": "execute_result"
    }
   ],
   "source": [
    "df.columns"
   ]
  },
  {
   "cell_type": "markdown",
   "id": "4b88f696",
   "metadata": {
    "id": "4b88f696",
    "papermill": {
     "duration": 0.024612,
     "end_time": "2021-08-26T09:53:02.823162",
     "exception": false,
     "start_time": "2021-08-26T09:53:02.798550",
     "status": "completed"
    },
    "tags": []
   },
   "source": [
    "## 3.4. Text Processing\n",
    "1. Remove symbols(',','-',...etc)\n",
    "2. Remove stop words\n",
    "3. Stemming"
   ]
  },
  {
   "cell_type": "code",
   "execution_count": 16,
   "id": "20c49d69",
   "metadata": {
    "ExecuteTime": {
     "end_time": "2023-05-08T12:29:13.754476Z",
     "start_time": "2023-05-08T12:29:13.658288Z"
    },
    "execution": {
     "iopub.execute_input": "2021-08-26T09:53:02.878920Z",
     "iopub.status.busy": "2021-08-26T09:53:02.878352Z",
     "iopub.status.idle": "2021-08-26T09:53:02.880982Z",
     "shell.execute_reply": "2021-08-26T09:53:02.880527Z",
     "shell.execute_reply.started": "2021-08-26T09:45:08.261014Z"
    },
    "id": "20c49d69",
    "papermill": {
     "duration": 0.032855,
     "end_time": "2021-08-26T09:53:02.881112",
     "exception": false,
     "start_time": "2021-08-26T09:53:02.848257",
     "status": "completed"
    },
    "tags": []
   },
   "outputs": [],
   "source": [
    "ps = PorterStemmer()\n",
    "def wordopt(text):\n",
    "    text = re.sub('[^a-zA-Z]', ' ',text)\n",
    "    text = text.lower()\n",
    "    text = text.split()\n",
    "    text = [ps.stem(word) for word in text if not word in stopwords.words('english')]\n",
    "    text = ' '.join(text)\n",
    "    return text"
   ]
  },
  {
   "cell_type": "code",
   "execution_count": 17,
   "id": "c4357710",
   "metadata": {
    "ExecuteTime": {
     "end_time": "2023-05-08T12:30:33.583195Z",
     "start_time": "2023-05-08T12:29:13.770241Z"
    },
    "execution": {
     "iopub.execute_input": "2021-08-26T09:53:02.936377Z",
     "iopub.status.busy": "2021-08-26T09:53:02.935793Z",
     "iopub.status.idle": "2021-08-26T09:57:16.554631Z",
     "shell.execute_reply": "2021-08-26T09:57:16.554113Z",
     "shell.execute_reply.started": "2021-08-26T09:45:15.522372Z"
    },
    "id": "c4357710",
    "papermill": {
     "duration": 253.64905,
     "end_time": "2021-08-26T09:57:16.554844",
     "exception": false,
     "start_time": "2021-08-26T09:53:02.905794",
     "status": "completed"
    },
    "tags": []
   },
   "outputs": [],
   "source": [
    "df['News'] = df['News'].apply(wordopt) #Applying the text processing techniques onto every row data"
   ]
  },
  {
   "cell_type": "code",
   "execution_count": 18,
   "id": "f8c43141",
   "metadata": {
    "ExecuteTime": {
     "end_time": "2023-05-08T12:30:34.284115Z",
     "start_time": "2023-05-08T12:30:33.595099Z"
    },
    "colab": {
     "base_uri": "https://localhost:8080/"
    },
    "id": "f8c43141",
    "outputId": "221f3db3-705a-42e9-8706-008f2ae4c7eb"
   },
   "outputs": [
    {
     "name": "stderr",
     "output_type": "stream",
     "text": [
      "[nltk_data] Downloading package stopwords to\n",
      "[nltk_data]     C:\\Users\\CITY_LAP\\AppData\\Roaming\\nltk_data...\n",
      "[nltk_data]   Package stopwords is already up-to-date!\n"
     ]
    },
    {
     "data": {
      "text/plain": [
       "True"
      ]
     },
     "execution_count": 18,
     "metadata": {},
     "output_type": "execute_result"
    }
   ],
   "source": [
    "import nltk\n",
    "nltk.download('stopwords')"
   ]
  },
  {
   "cell_type": "markdown",
   "id": "637adc38",
   "metadata": {
    "id": "637adc38",
    "papermill": {
     "duration": 0.023902,
     "end_time": "2021-08-26T09:57:16.663779",
     "exception": false,
     "start_time": "2021-08-26T09:57:16.639877",
     "status": "completed"
    },
    "tags": []
   },
   "source": [
    "## Splitting DataSet"
   ]
  },
  {
   "cell_type": "code",
   "execution_count": 19,
   "id": "152d9ab7",
   "metadata": {
    "ExecuteTime": {
     "end_time": "2023-05-08T12:30:34.329649Z",
     "start_time": "2023-05-08T12:30:34.304276Z"
    },
    "execution": {
     "iopub.execute_input": "2021-08-26T09:57:16.718920Z",
     "iopub.status.busy": "2021-08-26T09:57:16.718026Z",
     "iopub.status.idle": "2021-08-26T09:57:16.721971Z",
     "shell.execute_reply": "2021-08-26T09:57:16.722357Z",
     "shell.execute_reply.started": "2021-08-26T09:50:47.849935Z"
    },
    "id": "152d9ab7",
    "papermill": {
     "duration": 0.034559,
     "end_time": "2021-08-26T09:57:16.722508",
     "exception": false,
     "start_time": "2021-08-26T09:57:16.687949",
     "status": "completed"
    },
    "tags": []
   },
   "outputs": [],
   "source": [
    "X = df['News']\n",
    "Y = df['label']\n",
    "\n",
    "#Split the data into training and test set\n",
    "x_train, x_test, y_train, y_test = train_test_split(X, Y, test_size=0.25)"
   ]
  },
  {
   "cell_type": "markdown",
   "id": "c52afd52",
   "metadata": {
    "id": "c52afd52",
    "papermill": {
     "duration": 0.024128,
     "end_time": "2021-08-26T09:57:16.771207",
     "exception": false,
     "start_time": "2021-08-26T09:57:16.747079",
     "status": "completed"
    },
    "tags": []
   },
   "source": [
    "## 5. Vectorization\n",
    "\n",
    "This is used to handle our text data, by converting it into vectors."
   ]
  },
  {
   "cell_type": "code",
   "execution_count": 20,
   "id": "ff2c3c3b",
   "metadata": {
    "ExecuteTime": {
     "end_time": "2023-05-08T12:30:34.749385Z",
     "start_time": "2023-05-08T12:30:34.338448Z"
    },
    "execution": {
     "iopub.execute_input": "2021-08-26T09:57:16.854255Z",
     "iopub.status.busy": "2021-08-26T09:57:16.843740Z",
     "iopub.status.idle": "2021-08-26T09:57:17.804796Z",
     "shell.execute_reply": "2021-08-26T09:57:17.804304Z",
     "shell.execute_reply.started": "2021-08-26T09:50:50.043854Z"
    },
    "id": "ff2c3c3b",
    "papermill": {
     "duration": 1.009573,
     "end_time": "2021-08-26T09:57:17.804934",
     "exception": false,
     "start_time": "2021-08-26T09:57:16.795361",
     "status": "completed"
    },
    "tags": []
   },
   "outputs": [],
   "source": [
    "#Vectorization\n",
    "vectorization = TfidfVectorizer()\n",
    "xv_train = vectorization.fit_transform(x_train)\n",
    "xv_test = vectorization.transform(x_test)"
   ]
  },
  {
   "cell_type": "markdown",
   "id": "c28ef5eb",
   "metadata": {
    "id": "c28ef5eb",
    "papermill": {
     "duration": 0.024049,
     "end_time": "2021-08-26T09:57:17.853864",
     "exception": false,
     "start_time": "2021-08-26T09:57:17.829815",
     "status": "completed"
    },
    "tags": []
   },
   "source": [
    "## 6. Model Fitting\n",
    "I will be fitting my data onto 3 classifications models\n",
    "1. Logistic Regression\n",
    "2. SVM\n",
    "3. RandomForestClassifier\n",
    "\n",
    "The best one amongst the 3 will be used further"
   ]
  },
  {
   "cell_type": "code",
   "execution_count": 21,
   "id": "df00fc6f",
   "metadata": {
    "ExecuteTime": {
     "end_time": "2023-05-08T12:30:40.113722Z",
     "start_time": "2023-05-08T12:30:34.759235Z"
    },
    "colab": {
     "base_uri": "https://localhost:8080/"
    },
    "execution": {
     "iopub.execute_input": "2021-08-26T09:57:17.908025Z",
     "iopub.status.busy": "2021-08-26T09:57:17.907058Z",
     "iopub.status.idle": "2021-08-26T09:57:18.410299Z",
     "shell.execute_reply": "2021-08-26T09:57:18.411217Z",
     "shell.execute_reply.started": "2021-08-26T09:50:55.242722Z"
    },
    "id": "df00fc6f",
    "outputId": "65138936-8279-45ed-f902-ac2cbb9b1c52",
    "papermill": {
     "duration": 0.53324,
     "end_time": "2021-08-26T09:57:18.411476",
     "exception": false,
     "start_time": "2021-08-26T09:57:17.878236",
     "status": "completed"
    },
    "tags": []
   },
   "outputs": [
    {
     "name": "stdout",
     "output_type": "stream",
     "text": [
      "Accuracy of LR model is  0.9496153846153846\n"
     ]
    }
   ],
   "source": [
    "#1. Logistic Regression - used because this model is best suited for binary classification\n",
    "LR_model = LogisticRegression()\n",
    "\n",
    "#Fitting training set to the model\n",
    "LR_model.fit(xv_train,y_train)\n",
    "\n",
    "#Predicting the test set results based on the model\n",
    "lr_y_pred = LR_model.predict(xv_test)\n",
    "\n",
    "#Calculate the accurracy of this model\n",
    "score = accuracy_score(y_test,lr_y_pred)\n",
    "print('Accuracy of LR model is ', score)"
   ]
  },
  {
   "cell_type": "code",
   "execution_count": 22,
   "id": "c3d1db4b",
   "metadata": {
    "ExecuteTime": {
     "end_time": "2023-05-08T12:30:40.143075Z",
     "start_time": "2023-05-08T12:30:40.124153Z"
    }
   },
   "outputs": [],
   "source": [
    "def conf_matrix(model):\n",
    "    ConfusionMatrixDisplay.from_estimator(\n",
    "        model,\n",
    "        xv_test,\n",
    "        y_test\n",
    "    )\n",
    "def class_report(model):\n",
    "    print(classification_report(\n",
    "        y_test,\n",
    "        model.predict(xv_test)\n",
    "    ))"
   ]
  },
  {
   "cell_type": "code",
   "execution_count": 23,
   "id": "04bb56f4",
   "metadata": {
    "ExecuteTime": {
     "end_time": "2023-05-08T12:30:40.444496Z",
     "start_time": "2023-05-08T12:30:40.160904Z"
    }
   },
   "outputs": [
    {
     "data": {
      "image/png": "[encoded data removed]",
      "text/plain": [
       "<Figure size 640x480 with 2 Axes>"
      ]
     },
     "metadata": {},
     "output_type": "display_data"
    }
   ],
   "source": [
    "conf_matrix(LR_model)"
   ]
  },
  {
   "cell_type": "code",
   "execution_count": 24,
   "id": "45c6f053",
   "metadata": {
    "ExecuteTime": {
     "end_time": "2023-05-08T12:30:40.483378Z",
     "start_time": "2023-05-08T12:30:40.447512Z"
    }
   },
   "outputs": [
    {
     "name": "stdout",
     "output_type": "stream",
     "text": [
      "              precision    recall  f1-score   support\n",
      "\n",
      "           0       0.98      0.92      0.95      2618\n",
      "           1       0.93      0.98      0.95      2582\n",
      "\n",
      "    accuracy                           0.95      5200\n",
      "   macro avg       0.95      0.95      0.95      5200\n",
      "weighted avg       0.95      0.95      0.95      5200\n",
      "\n"
     ]
    }
   ],
   "source": [
    "class_report(LR_model)"
   ]
  },
  {
   "cell_type": "code",
   "execution_count": 25,
   "id": "7811fd7e",
   "metadata": {
    "ExecuteTime": {
     "end_time": "2023-05-08T12:30:54.241717Z",
     "start_time": "2023-05-08T12:30:40.496088Z"
    },
    "colab": {
     "base_uri": "https://localhost:8080/"
    },
    "execution": {
     "iopub.execute_input": "2021-08-26T09:57:18.512724Z",
     "iopub.status.busy": "2021-08-26T09:57:18.511784Z",
     "iopub.status.idle": "2021-08-26T09:57:26.182733Z",
     "shell.execute_reply": "2021-08-26T09:57:26.181837Z",
     "shell.execute_reply.started": "2021-08-26T09:50:58.140032Z"
    },
    "id": "7811fd7e",
    "outputId": "db40d215-9339-4c65-b43b-babda079080d",
    "papermill": {
     "duration": 7.724129,
     "end_time": "2021-08-26T09:57:26.182875",
     "exception": false,
     "start_time": "2021-08-26T09:57:18.458746",
     "status": "completed"
    },
    "tags": []
   },
   "outputs": [
    {
     "name": "stdout",
     "output_type": "stream",
     "text": [
      "Accuracy of SVM model is  0.9730769230769231\n"
     ]
    }
   ],
   "source": [
    "#2. Support Vector Machine(SVM) - SVM works relatively well when there is a clear margin of separation between classes.\n",
    "svm_model = SVC(kernel='linear')\n",
    "\n",
    "#Fitting training set to the model\n",
    "svm_model.fit(xv_train,y_train)\n",
    "\n",
    "#Predicting the test set results based on the model\n",
    "svm_y_pred = svm_model.predict(xv_test)\n",
    "\n",
    "#Calculate the accuracy score of this model\n",
    "score = accuracy_score(y_test,svm_y_pred)\n",
    "print('Accuracy of SVM model is ', score)"
   ]
  },
  {
   "cell_type": "code",
   "execution_count": 26,
   "id": "e8c8f370",
   "metadata": {
    "ExecuteTime": {
     "end_time": "2023-05-08T12:30:56.615944Z",
     "start_time": "2023-05-08T12:30:54.246777Z"
    }
   },
   "outputs": [
    {
     "data": {
      "image/png": "[encoded data removed]",
      "text/plain": [
       "<Figure size 640x480 with 2 Axes>"
      ]
     },
     "metadata": {},
     "output_type": "display_data"
    }
   ],
   "source": [
    "conf_matrix(svm_model)"
   ]
  },
  {
   "cell_type": "code",
   "execution_count": 27,
   "id": "643dff33",
   "metadata": {
    "ExecuteTime": {
     "end_time": "2023-05-08T12:30:59.519115Z",
     "start_time": "2023-05-08T12:30:56.622512Z"
    }
   },
   "outputs": [
    {
     "name": "stdout",
     "output_type": "stream",
     "text": [
      "              precision    recall  f1-score   support\n",
      "\n",
      "           0       0.98      0.97      0.97      2618\n",
      "           1       0.97      0.97      0.97      2582\n",
      "\n",
      "    accuracy                           0.97      5200\n",
      "   macro avg       0.97      0.97      0.97      5200\n",
      "weighted avg       0.97      0.97      0.97      5200\n",
      "\n"
     ]
    }
   ],
   "source": [
    "class_report(svm_model)"
   ]
  },
  {
   "cell_type": "code",
   "execution_count": 28,
   "id": "a36528b1",
   "metadata": {
    "ExecuteTime": {
     "end_time": "2023-05-08T12:31:11.847250Z",
     "start_time": "2023-05-08T12:30:59.529531Z"
    },
    "colab": {
     "base_uri": "https://localhost:8080/"
    },
    "execution": {
     "iopub.execute_input": "2021-08-26T09:57:26.237256Z",
     "iopub.status.busy": "2021-08-26T09:57:26.236701Z",
     "iopub.status.idle": "2021-08-26T09:57:28.383048Z",
     "shell.execute_reply": "2021-08-26T09:57:28.382333Z",
     "shell.execute_reply.started": "2021-08-26T09:51:09.005763Z"
    },
    "id": "a36528b1",
    "outputId": "4fe3d6e0-45ca-4751-ec35-2583a72b93cf",
    "papermill": {
     "duration": 2.17492,
     "end_time": "2021-08-26T09:57:28.383228",
     "exception": false,
     "start_time": "2021-08-26T09:57:26.208308",
     "status": "completed"
    },
    "tags": []
   },
   "outputs": [
    {
     "name": "stdout",
     "output_type": "stream",
     "text": [
      "Accuracy of RFC model is  0.9730769230769231\n"
     ]
    }
   ],
   "source": [
    "#3. Random Forest Classifier \n",
    "RFC_model = RandomForestClassifier(random_state=0)\n",
    "\n",
    "#Fitting training set to the model\n",
    "RFC_model.fit(xv_train, y_train)\n",
    "\n",
    "#Predicting the test set results based on the model\n",
    "rfc_y_pred = RFC_model.predict(xv_test)\n",
    "\n",
    "#Calculate the accuracy score of this model\n",
    "score = accuracy_score(y_test,rfc_y_pred)\n",
    "\n",
    "print('Accuracy of RFC model is ', score)"
   ]
  },
  {
   "cell_type": "code",
   "execution_count": 29,
   "id": "5ce780ac",
   "metadata": {
    "ExecuteTime": {
     "end_time": "2023-05-08T12:31:12.467269Z",
     "start_time": "2023-05-08T12:31:11.859663Z"
    }
   },
   "outputs": [
    {
     "data": {
      "image/png": "[encoded data removed]",
      "text/plain": [
       "<Figure size 640x480 with 2 Axes>"
      ]
     },
     "metadata": {},
     "output_type": "display_data"
    }
   ],
   "source": [
    "conf_matrix(RFC_model)"
   ]
  },
  {
   "cell_type": "code",
   "execution_count": 30,
   "id": "35e7fea9",
   "metadata": {
    "ExecuteTime": {
     "end_time": "2023-05-08T12:31:12.902569Z",
     "start_time": "2023-05-08T12:31:12.471885Z"
    }
   },
   "outputs": [
    {
     "name": "stdout",
     "output_type": "stream",
     "text": [
      "              precision    recall  f1-score   support\n",
      "\n",
      "           0       0.99      0.96      0.97      2618\n",
      "           1       0.96      0.99      0.97      2582\n",
      "\n",
      "    accuracy                           0.97      5200\n",
      "   macro avg       0.97      0.97      0.97      5200\n",
      "weighted avg       0.97      0.97      0.97      5200\n",
      "\n"
     ]
    }
   ],
   "source": [
    "class_report(RFC_model)"
   ]
  },
  {
   "cell_type": "code",
   "execution_count": 31,
   "id": "167b4951",
   "metadata": {
    "ExecuteTime": {
     "end_time": "2023-05-08T12:31:12.929369Z",
     "start_time": "2023-05-08T12:31:12.906953Z"
    }
   },
   "outputs": [
    {
     "name": "stdout",
     "output_type": "stream",
     "text": [
      "Accuracy of Naive bayes model is  0.9190384615384616\n"
     ]
    }
   ],
   "source": [
    "from sklearn.naive_bayes import MultinomialNB\n",
    "NB_model = MultinomialNB()\n",
    "\n",
    "#Fitting training set to the model\n",
    "NB_model.fit(xv_train, y_train)\n",
    "\n",
    "#Predicting the test set results based on the model\n",
    "nb_y_pred = NB_model.predict(xv_test)\n",
    "\n",
    "#Calculate the accuracy score of this model\n",
    "score = accuracy_score(y_test,nb_y_pred)\n",
    "\n",
    "print('Accuracy of Naive bayes model is ', score)"
   ]
  },
  {
   "cell_type": "code",
   "execution_count": 32,
   "id": "27c19ec5",
   "metadata": {
    "ExecuteTime": {
     "end_time": "2023-05-08T12:31:13.154688Z",
     "start_time": "2023-05-08T12:31:12.939547Z"
    }
   },
   "outputs": [
    {
     "data": {
      "image/png": "[encoded data removed]",
      "text/plain": [
       "<Figure size 640x480 with 2 Axes>"
      ]
     },
     "metadata": {},
     "output_type": "display_data"
    }
   ],
   "source": [
    "conf_matrix(NB_model)"
   ]
  },
  {
   "cell_type": "code",
   "execution_count": 33,
   "id": "a4e4fce3",
   "metadata": {
    "ExecuteTime": {
     "end_time": "2023-05-08T12:31:13.187657Z",
     "start_time": "2023-05-08T12:31:13.158500Z"
    }
   },
   "outputs": [
    {
     "name": "stdout",
     "output_type": "stream",
     "text": [
      "              precision    recall  f1-score   support\n",
      "\n",
      "           0       0.87      0.98      0.92      2618\n",
      "           1       0.98      0.86      0.91      2582\n",
      "\n",
      "    accuracy                           0.92      5200\n",
      "   macro avg       0.93      0.92      0.92      5200\n",
      "weighted avg       0.93      0.92      0.92      5200\n",
      "\n"
     ]
    }
   ],
   "source": [
    "class_report(NB_model)"
   ]
  },
  {
   "cell_type": "markdown",
   "id": "0eb3e754",
   "metadata": {
    "id": "0eb3e754",
    "papermill": {
     "duration": 0.024927,
     "end_time": "2021-08-26T09:57:28.483810",
     "exception": false,
     "start_time": "2021-08-26T09:57:28.458883",
     "status": "completed"
    },
    "tags": []
   },
   "source": [
    "## 7. Manual Model Testing"
   ]
  },
  {
   "cell_type": "code",
   "execution_count": 34,
   "id": "33e561c6",
   "metadata": {
    "ExecuteTime": {
     "end_time": "2023-05-08T12:31:13.210188Z",
     "start_time": "2023-05-08T12:31:13.196453Z"
    },
    "execution": {
     "iopub.execute_input": "2021-08-26T09:57:28.537846Z",
     "iopub.status.busy": "2021-08-26T09:57:28.536995Z",
     "iopub.status.idle": "2021-08-26T09:57:28.542027Z",
     "shell.execute_reply": "2021-08-26T09:57:28.542519Z",
     "shell.execute_reply.started": "2021-08-26T09:51:48.389781Z"
    },
    "id": "33e561c6",
    "papermill": {
     "duration": 0.03331,
     "end_time": "2021-08-26T09:57:28.542687",
     "exception": false,
     "start_time": "2021-08-26T09:57:28.509377",
     "status": "completed"
    },
    "tags": []
   },
   "outputs": [],
   "source": [
    "# As SVM is able to provide best results - SVM will be used to check the news liability\n",
    "\n",
    "def fake_news_det(news):\n",
    "    input_data = {\"text\":[news]}\n",
    "    new_def_test = pd.DataFrame(input_data)\n",
    "    new_def_test[\"text\"] = new_def_test[\"text\"].apply(wordopt) \n",
    "    new_x_test = new_def_test[\"text\"]\n",
    "    #print(new_x_test)\n",
    "    vectorized_input_data = vectorization.transform(new_x_test)\n",
    "    prediction = svm_model.predict(vectorized_input_data)\n",
    "    \n",
    "    if prediction == 1:\n",
    "        print(\"Real News\")\n",
    "    else:\n",
    "        print(\"Fake News\")"
   ]
  },
  {
   "cell_type": "code",
   "execution_count": 35,
   "id": "21520ee0",
   "metadata": {
    "ExecuteTime": {
     "end_time": "2023-05-08T12:31:13.255742Z",
     "start_time": "2023-05-08T12:31:13.220768Z"
    },
    "colab": {
     "base_uri": "https://localhost:8080/"
    },
    "execution": {
     "iopub.execute_input": "2021-08-26T09:57:28.646962Z",
     "iopub.status.busy": "2021-08-26T09:57:28.646099Z",
     "iopub.status.idle": "2021-08-26T09:57:28.659934Z",
     "shell.execute_reply": "2021-08-26T09:57:28.660330Z",
     "shell.execute_reply.started": "2021-08-26T09:51:57.563012Z"
    },
    "id": "21520ee0",
    "outputId": "4ed5066e-1061-4680-f020-3c7ac2c9c150",
    "papermill": {
     "duration": 0.042134,
     "end_time": "2021-08-26T09:57:28.660480",
     "exception": false,
     "start_time": "2021-08-26T09:57:28.618346",
     "status": "completed"
    },
    "tags": []
   },
   "outputs": [
    {
     "name": "stdout",
     "output_type": "stream",
     "text": [
      "Fake News\n"
     ]
    }
   ],
   "source": [
    "fake_news_det('U.S. Secretary of State John F. Kerry said Monday that he will stop in Paris later this week, amid criticism that no top American officials attended Sundayâ€™s unity march against terrorism.')"
   ]
  },
  {
   "cell_type": "code",
   "execution_count": 36,
   "id": "6e43748c",
   "metadata": {
    "ExecuteTime": {
     "end_time": "2023-05-08T12:31:13.304133Z",
     "start_time": "2023-05-08T12:31:13.264562Z"
    },
    "colab": {
     "base_uri": "https://localhost:8080/"
    },
    "execution": {
     "iopub.execute_input": "2021-08-26T09:57:28.716428Z",
     "iopub.status.busy": "2021-08-26T09:57:28.715844Z",
     "iopub.status.idle": "2021-08-26T09:57:28.729423Z",
     "shell.execute_reply": "2021-08-26T09:57:28.728985Z",
     "shell.execute_reply.started": "2021-08-26T09:52:03.145517Z"
    },
    "id": "6e43748c",
    "outputId": "4cd7129a-28ae-48c9-982b-6c4755ff4b56",
    "papermill": {
     "duration": 0.043656,
     "end_time": "2021-08-26T09:57:28.729547",
     "exception": false,
     "start_time": "2021-08-26T09:57:28.685891",
     "status": "completed"
    },
    "tags": []
   },
   "outputs": [
    {
     "name": "stdout",
     "output_type": "stream",
     "text": [
      "Real News\n"
     ]
    }
   ],
   "source": [
    "\n",
    "fake_news_det(\"\"\"The second Covid-19 wave in India is now on the \"downswing,\" the Centre said on Thursday, highlighting that the current number of active cases is still \"very high\" and advised states and Union territories (UTs) to not let down their guards.\"\"\")"
   ]
  },
  {
   "cell_type": "code",
   "execution_count": 40,
   "id": "1e651fd4",
   "metadata": {},
   "outputs": [],
   "source": [
    "import pickle"
   ]
  },
  {
   "cell_type": "code",
   "execution_count": 41,
   "id": "335cdbf5",
   "metadata": {},
   "outputs": [],
   "source": [
    "pickle.dump(svm_model, open('model.pkl', 'wb'))"
   ]
  },
  {
   "cell_type": "code",
   "execution_count": 42,
   "id": "951d0841",
   "metadata": {},
   "outputs": [],
   "source": [
    "pickle.dump(vectorization, open('tfidfvect.pkl', 'wb'))"
   ]
  },
  {
   "cell_type": "code",
   "execution_count": 43,
   "id": "7ea649c9",
   "metadata": {},
   "outputs": [],
   "source": [
    "joblib_model = pickle.load(open('model.pkl', 'rb'))"
   ]
  },
  {
   "cell_type": "code",
   "execution_count": 44,
   "id": "687804c5",
   "metadata": {},
   "outputs": [],
   "source": [
    "joblib_vect = pickle.load(open('tfidfvect.pkl', 'rb'))"
   ]
  }
 ],
 "metadata": {
  "colab": {
   "provenance": []
  },
  "kernelspec": {
   "display_name": "Python 3 (ipykernel)",
   "language": "python",
   "name": "python3"
  },
  "language_info": {
   "codemirror_mode": {
    "name": "ipython",
    "version": 3
   },
   "file_extension": ".py",
   "mimetype": "text/x-python",
   "name": "python",
   "nbconvert_exporter": "python",
   "pygments_lexer": "ipython3",
   "version": "3.10.9"
  },
  "papermill": {
   "default_parameters": {},
   "duration": 276.541156,
   "end_time": "2021-08-26T09:57:29.594939",
   "environment_variables": {},
   "exception": null,
   "input_path": "__notebook__.ipynb",
   "output_path": "__notebook__.ipynb",
   "parameters": {},
   "start_time": "2021-08-26T09:52:53.053783",
   "version": "2.3.3"
  }
 },
 "nbformat": 4,
 "nbformat_minor": 5
}
